{
 "cells": [
  {
   "cell_type": "code",
   "execution_count": null,
   "id": "92df740a-30cc-48a1-8774-ba2dfa50af68",
   "metadata": {},
   "outputs": [],
   "source": [
    "import requests\n",
    "import json\n",
    "import pandas as pd\n",
    "import plotly.graph_objs as go\n",
    "from plotly.subplots import make_subplots"
   ]
  },
  {
   "cell_type": "code",
   "execution_count": null,
   "id": "36322c9d-5344-4053-ab65-0075a51bc0bf",
   "metadata": {},
   "outputs": [],
   "source": [
    "def prospect_dob(playerId):\n",
    "    '''\n",
    "    prospect_dob gets the prospects API data and returns the date of birth.\n",
    "\n",
    "    :param playerId: is the id of the prospect\n",
    "    :return: date of birth\n",
    "    '''\n",
    "    if playerId == '':\n",
    "        return ''\n",
    "    \n",
    "    r = requests.get('https://statsapi.web.nhl.com/api/v1/draft/prospects/{}'.format(playerId))\n",
    "    jason = json.loads(r.text)\n",
    "    \n",
    "    # navigate to the the DOB of the prospect/player\n",
    "    dob = jason['prospects'][0]['birthDate']\n",
    "    return dob"
   ]
  },
  {
   "cell_type": "code",
   "execution_count": null,
   "id": "9402e80c-5fe1-4118-8efd-07cc32f5bf1d",
   "metadata": {},
   "outputs": [],
   "source": [
    "# set the variables and length of history to be analyzed\n",
    "current_year = 2023\n",
    "past_years_to_analyze = 30\n",
    "\n",
    "analyzed_drafts = list(range(current_year - past_years_to_analyze, current_year))\n",
    "\n",
    "# print oldest and most recent draft class to be analyzed\n",
    "print('The range of analyzed NHL drafts is: ' + str(analyzed_drafts[0]) + ' - ' + str(analyzed_drafts[-1]) + '.')"
   ]
  },
  {
   "cell_type": "code",
   "execution_count": null,
   "id": "ac3218d7-183c-4709-9fa7-462e5ca15fb8",
   "metadata": {},
   "outputs": [],
   "source": [
    "# create empty dataframe which will be later appended for draft data\n",
    "final_df = pd.DataFrame()\n",
    "\n",
    "for yr in analyzed_drafts:\n",
    "    \n",
    "    print('Requesting data for draft ' + str(yr) + '.')\n",
    "    # request the draft data for the draft year and turn data to JSON\n",
    "    r = requests.get('https://statsapi.web.nhl.com/api/v1/draft/{}'.format(yr))\n",
    "    jason = json.loads(r.text)\n",
    "    \n",
    "    # create dataframe from data\n",
    "    df = pd.DataFrame.from_records(jason['drafts'][0])\n",
    "    \n",
    "    # unpack the first ('rounds') level, concat and drop \n",
    "    df_add = df['rounds'].apply(pd.Series)\n",
    "    df = pd.concat([df, df_add], axis=1).drop('rounds', axis=1)\n",
    "\n",
    "    # the picks column is list of dictonaries, so explode\n",
    "    df = df.explode('picks')\n",
    "\n",
    "    # unpack the next level ('picks'), concat and drop \n",
    "    df_add = df['picks'].apply(pd.Series)\n",
    "    df = pd.concat([df, df_add], axis=1).drop('picks', axis=1)\n",
    "\n",
    "    # unpack the 'team' level\n",
    "    df_add = df['team'].apply(pd.Series)\n",
    "    # rename columns to make them unique, change the dtype of some of them\n",
    "    df_add = df_add.rename(columns={'id': 'teamId', 'name': 'teamName', 'link': 'teamLink'})\n",
    "    df_add['teamId'] = df_add['teamId'].astype(int)\n",
    "    # concat and drop \n",
    "    df = pd.concat([df, df_add], axis=1).drop('team', axis=1)\n",
    "\n",
    "\n",
    "    # unpack the 'prospect' level\n",
    "    df_add = df['prospect'].apply(pd.Series)\n",
    "    # rename columns to make them unique to players\n",
    "    df_add = df_add.rename(columns={'link': 'playerLink', 'id': 'playerId'})\n",
    "    # some of the draft pick gets void or rorfeited sometimes, so this has to be taken care of\n",
    "    df_add['playerId'] = df_add['playerId'].apply(lambda x: '' if pd.isnull(x) else str(int(x)))\n",
    "    # concat and drop \n",
    "    df = pd.concat([df, df_add], axis=1).drop('prospect', axis=1)\n",
    "\n",
    "    # drop unnecessary columns\n",
    "    df = df.drop(columns=['round','year','round', 'teamLink', 'playerLink'], axis=1)\n",
    "\n",
    "    print('Requesting date of birth data for ' + str(yr) + ' draft class.')\n",
    "    df['playerBirthDate'] = df['playerId'].apply(prospect_dob)\n",
    "    df['playerBirthDate'] = pd.to_datetime(df['playerBirthDate'])\n",
    "    \n",
    "    # get the month from the date\n",
    "    df['playerBirthDateMonth'] = df['playerBirthDate'].dt.month\n",
    "    \n",
    "    final_df = final_df.append(df)\n",
    " \n",
    "print('Data collected, done!')\n",
    "final_df.head()"
   ]
  },
  {
   "cell_type": "code",
   "execution_count": null,
   "id": "1d5eca9d-603a-4cee-a437-56045e15ea72",
   "metadata": {},
   "outputs": [],
   "source": [
    "# save the data to CSV \n",
    "final_df.to_csv('nhl_draft_dobs.csv')"
   ]
  },
  {
   "cell_type": "code",
   "execution_count": null,
   "id": "0d020f4a-9c3e-48a4-af48-6c091a479fed",
   "metadata": {},
   "outputs": [],
   "source": [
    "# read the CSV to prevent repeated json downloads\n",
    "final_df = pd.read_csv('nhl_draft_dobs.csv')"
   ]
  },
  {
   "cell_type": "markdown",
   "id": "82f863d5-e52f-42d5-b828-10c66c89ca43",
   "metadata": {},
   "source": [
    "## Data Quality Stats"
   ]
  },
  {
   "cell_type": "code",
   "execution_count": null,
   "id": "6198b958-9bd3-44e5-a434-bbaf4e1720ce",
   "metadata": {},
   "outputs": [],
   "source": [
    "# get stats on the dataset\n",
    "final_df.shape"
   ]
  },
  {
   "cell_type": "code",
   "execution_count": null,
   "id": "73e52062-2526-4c20-b4a3-f924c874ce6f",
   "metadata": {},
   "outputs": [],
   "source": [
    "# exclude all picks whirch are void\n",
    "dq_df = final_df[final_df['fullName'] != 'Void']\n",
    "\n",
    "dq_df = dq_df[['draftYear','fullName','playerBirthDate']].groupby(by=['draftYear'],as_index=False).count()\n",
    "dq_df = dq_df.rename(columns={'fullName': 'countOfPicks', 'playerBirthDate': 'countOfPlayerBirthDates'})\n",
    "dq_df['dobPercentage'] = round((dq_df['countOfPlayerBirthDates'] / dq_df['countOfPicks']) * 100, 1)\n",
    "\n",
    "# produce the data quality statistics chart\n",
    "fig = go.Figure([go.Bar(x=dq_df['draftYear'], y=dq_df['dobPercentage'])])\n",
    "\n",
    "fig.update_layout(\n",
    "    xaxis_title=\"Draft Years\",\n",
    "    yaxis_title=\"Percentage of obtained DOBs\",\n",
    "    xaxis=dict(autorange=\"reversed\")\n",
    ")\n",
    "\n",
    "fig.show()"
   ]
  },
  {
   "cell_type": "markdown",
   "id": "3cc20cdb-2cd4-4f56-9195-57c96dd8fa91",
   "metadata": {},
   "source": [
    "### Produce Single Chart"
   ]
  },
  {
   "cell_type": "code",
   "execution_count": null,
   "id": "5ff0bb9d-d165-49d0-9948-8f26b926f871",
   "metadata": {},
   "outputs": [],
   "source": [
    "# prepare the the dataframe for plotting\n",
    "plot_df = final_df[['draftYear','playerBirthDateMonth','fullName']].groupby(by=['draftYear','playerBirthDateMonth'],as_index=False).count()\n",
    "plot_df = plot_df.rename(columns={'fullName': 'count'})\n",
    "plot_df.head(20)"
   ]
  },
  {
   "cell_type": "code",
   "execution_count": null,
   "id": "06d9584f-1f21-4b8b-aa5f-5590716acab8",
   "metadata": {},
   "outputs": [],
   "source": [
    "# months used for labels for angular axis\n",
    "months = ['Jan', 'Feb', 'March', 'April', 'May', 'June', 'July', 'Aug', 'Sept', 'Oct', 'Nov', 'Dec']\n",
    "\n",
    "fig = go.Figure()\n",
    "\n",
    "# function to produce the polar chart with multiple traces for each draft class year\n",
    "for yr in analyzed_drafts:\n",
    "\n",
    "    filt = plot_df['draftYear'] == yr  #filter for plot dataframe\n",
    "    plot_df[filt]\n",
    "    \n",
    "    r = plot_df[filt]['count'].to_list() #sets for radial coordinates\n",
    "    \n",
    "    fig.add_trace(go.Barpolar(\n",
    "        r=r,\n",
    "        theta=months,\n",
    "        name=yr,\n",
    "    ))\n",
    "\n",
    "# resize the final plot\n",
    "fig.update_layout(\n",
    "    autosize=False,\n",
    "    width=800,\n",
    "    height=800,)\n",
    "\n",
    "# update the layout of the chart\n",
    "fig.update_layout(\n",
    "    showlegend = True,\n",
    "    legend={'title':'Draft Class'},\n",
    "    font_size=16,\n",
    "    legend_font_size=16,\n",
    "    polar=dict(\n",
    "        angularaxis=dict(\n",
    "            direction='clockwise', #set the orientation of the traces\n",
    "            rotation=75, #introduce the offset to the orientation\n",
    "        ))\n",
    ")\n",
    "fig.show()"
   ]
  },
  {
   "cell_type": "code",
   "execution_count": null,
   "id": "2cd43e6c-9bad-42b4-a6d8-e96d7ec1b084",
   "metadata": {},
   "outputs": [],
   "source": [
    "# stats on the findings\n",
    "\n",
    "stat_df = plot_df[['playerBirthDateMonth','count']].groupby(by=['playerBirthDateMonth'],as_index=False).sum()\n",
    "stat_df['mthPerc'] = (stat_df['count'] / stat_df['count'].sum()) * 100\n",
    "stat_df['qtMthPerc']= stat_df['mthPerc'].rolling(window=3).sum()\n",
    "stat_df"
   ]
  },
  {
   "cell_type": "markdown",
   "id": "da4fa51d-ea65-4fab-a68f-26e0c2fc6dfa",
   "metadata": {},
   "source": [
    "### Print Master Chart Without Years"
   ]
  },
  {
   "cell_type": "code",
   "execution_count": null,
   "id": "40718a6e-44be-42a6-9f43-4f8652494c82",
   "metadata": {},
   "outputs": [],
   "source": [
    "# months used for labels for angular axis\n",
    "months = ['Jan', 'Feb', 'March', 'April', 'May', 'June', 'July', 'Aug', 'Sept', 'Oct', 'Nov', 'Dec']\n",
    "\n",
    "fig = go.Figure()\n",
    "\n",
    "r = stat_df['count'].to_list()\n",
    "\n",
    "fig.add_trace(go.Barpolar(\n",
    "    r=r,\n",
    "    theta=months,\n",
    "))\n",
    "\n",
    "# resize the final plot\n",
    "fig.update_layout(\n",
    "    autosize=False,\n",
    "    width=800,\n",
    "    height=800,)\n",
    "\n",
    "# update the layout of the chart\n",
    "fig.update_layout(\n",
    "    title='NHL Drafted Prospects Month Of Birth',\n",
    "    legend={'title':'Draft Class'},\n",
    "    font_size=16,\n",
    "    legend_font_size=16,\n",
    "    polar=dict(\n",
    "        angularaxis=dict(\n",
    "            direction='clockwise', #set the orientation of the traces\n",
    "            rotation=75, #introduce the offset to the orientation\n",
    "        ))\n",
    ")\n",
    "fig.show()"
   ]
  },
  {
   "cell_type": "markdown",
   "id": "dc4d6638-1fbf-486d-8ff7-9b688b8cbc2e",
   "metadata": {},
   "source": [
    "### Produce Chart for Each Draft Class"
   ]
  },
  {
   "cell_type": "code",
   "execution_count": null,
   "id": "c19b98bf-459b-4c69-a91b-77d61a1d8685",
   "metadata": {},
   "outputs": [],
   "source": [
    "# cols variable for how many polar bars should be in the row\n",
    "cols = 5 \n",
    "rows = len(analyzed_drafts)//cols + 1\n",
    "\n",
    "fig = make_subplots(\n",
    "    rows=rows, cols=cols,\n",
    "    \n",
    "    specs=[[dict([(\"type\", \"polar\")])]*cols]*rows, #special construct to defice all charts as polar has to be same dimentions (rows, colums) as subplot\n",
    "    subplot_titles=list(reversed(analyzed_drafts))) #reversal needed to start the charts left to right and top to bottom\n",
    "\n",
    "# function to produce the polar charts for the subplot\n",
    "for idx, yr in enumerate(list(reversed(analyzed_drafts))):\n",
    "    cl = (idx + 1) - ((idx//cols) * cols) #column position function\n",
    "    rw = idx//cols + 1 #row position function\n",
    "    \n",
    "    filt = plot_df['draftYear'] == yr #filter for plotting the dataframe\n",
    "    plot_df[filt]\n",
    "    \n",
    "    r = plot_df[filt]['count'].to_list() #sets for radial coordinates\n",
    "    \n",
    "    fig.add_trace(go.Barpolar(\n",
    "        r=r,\n",
    "        theta=months,\n",
    "        name=yr\n",
    "    ),row=rw, col=cl)\n",
    "    \n",
    "    \n",
    "fig.update_layout(\n",
    "    showlegend = False,\n",
    "    )\n",
    "\n",
    "fig.update_layout(\n",
    "    autosize=False,\n",
    "    width=800,\n",
    "    height=1800,)\n",
    "\n",
    "# special construct to create polar_list ['polar', 'polar2', 'polar3', ...] for layout update. \n",
    "# this is specific to subplots that each subplot chart has to be referrenced separatelly\n",
    "polar_list = [''] + list(range(2,len(analyzed_drafts) + 1))\n",
    "polar_list = ['polar' + str(i) for i in polar_list]\n",
    "\n",
    "# fig's layout properties can be accessd by dict and .update method can be used\n",
    "for plr in polar_list:\n",
    "    fig['layout'][plr].update(dict(\n",
    "                                angularaxis = dict(rotation=75,direction='clockwise',showticklabels=False),\n",
    "                                radialaxis = dict(showticklabels=False),\n",
    "    ))\n",
    "\n",
    "\n",
    "fig.show()"
   ]
  },
  {
   "cell_type": "markdown",
   "id": "4e5d65a2-4255-4189-a3ec-0291cd9d2d6e",
   "metadata": {},
   "source": [
    "## Produce Chart of Firts Overalls"
   ]
  },
  {
   "cell_type": "code",
   "execution_count": null,
   "id": "58d7d862-33b4-489c-b57f-88b3a6de29e7",
   "metadata": {},
   "outputs": [],
   "source": [
    "# filter for just first overall\n",
    "filt = final_df['pickOverall'] == 1\n",
    "plot2_df = final_df[filt]\n",
    "\n",
    "plot2_df = plot2_df[['draftYear','playerBirthDateMonth']].groupby(by=['playerBirthDateMonth'],as_index=False).count()\n",
    "plot2_df = plot2_df.rename(columns={'draftYear': 'count'})\n",
    "\n",
    "ref_df = pd.DataFrame(list(range(1,13)), columns=['month'])\n",
    "\n",
    "plot2_df = pd.merge(ref_df, plot2_df, how='left', left_on='month', right_on='playerBirthDateMonth')\n",
    "\n",
    "plot2_df = plot2_df.drop(columns='playerBirthDateMonth')\n",
    "plot2_df= plot2_df.fillna(0)\n",
    "\n",
    "plot2_df.head(30)"
   ]
  },
  {
   "cell_type": "markdown",
   "id": "2b254d2d-5390-4224-ab56-706b3146983c",
   "metadata": {},
   "source": [
    "### Chart First Overall Data"
   ]
  },
  {
   "cell_type": "code",
   "execution_count": null,
   "id": "d1de86d1-ce50-4455-819f-612375a841d0",
   "metadata": {},
   "outputs": [],
   "source": [
    "# months used for labels for angular axis\n",
    "months = ['Jan', 'Feb', 'March', 'April', 'May', 'June', 'July', 'Aug', 'Sept', 'Oct', 'Nov', 'Dec']\n",
    "\n",
    "fig = go.Figure()\n",
    "\n",
    "r = plot2_df['count'].to_list()\n",
    "\n",
    "fig.add_trace(go.Barpolar(\n",
    "    r=r,\n",
    "    theta=months,\n",
    "))\n",
    "\n",
    "# resize the final plot\n",
    "fig.update_layout(\n",
    "    autosize=False,\n",
    "    width=800,\n",
    "    height=800,)\n",
    "\n",
    "# update the layout of the chart\n",
    "fig.update_layout(\n",
    "    title='First Overall Picks Month Of Birth',\n",
    "    legend={'title':'Draft Class'},\n",
    "    font_size=16,\n",
    "    legend_font_size=16,\n",
    "    polar=dict(\n",
    "        angularaxis=dict(\n",
    "            direction='clockwise', #set the orientation of the traces\n",
    "            rotation=75, #introduce the offset to the orientation\n",
    "        ))\n",
    ")\n",
    "fig.show()"
   ]
  },
  {
   "cell_type": "code",
   "execution_count": null,
   "id": "82df11f1-4d51-4d76-9855-aa2685fd97fa",
   "metadata": {},
   "outputs": [],
   "source": []
  }
 ],
 "metadata": {
  "kernelspec": {
   "display_name": "venv_all",
   "language": "python",
   "name": "venv_all"
  },
  "language_info": {
   "codemirror_mode": {
    "name": "ipython",
    "version": 3
   },
   "file_extension": ".py",
   "mimetype": "text/x-python",
   "name": "python",
   "nbconvert_exporter": "python",
   "pygments_lexer": "ipython3",
   "version": "3.9.15"
  }
 },
 "nbformat": 4,
 "nbformat_minor": 5
}
